{
 "cells": [
  {
   "cell_type": "markdown",
   "id": "4444fd16",
   "metadata": {},
   "source": [
    "## week2 day 2 coding challenge"
   ]
  },
  {
   "cell_type": "code",
   "execution_count": null,
   "id": "7d0b6067",
   "metadata": {},
   "outputs": [],
   "source": [
    "Q1. \n",
    "#inclde <stdio.h> \n",
    "int main()\n",
    "{ \n",
    "float number = 2.2;\n",
    "int integral = number; \n",
    "float fractional = number-integral;\n",
    "printf(\"%d %f\\n\",integral , fractional);\n",
    "return 0;\n",
    "}"
   ]
  },
  {
   "cell_type": "markdown",
   "id": "717990e9",
   "metadata": {},
   "source": [
    "Q2."
   ]
  },
  {
   "cell_type": "code",
   "execution_count": 1,
   "id": "e6c65dca",
   "metadata": {},
   "outputs": [
    {
     "name": "stdout",
     "output_type": "stream",
     "text": [
      "Hellow world\n"
     ]
    }
   ],
   "source": [
    "print(\"Hellow world\")"
   ]
  },
  {
   "cell_type": "markdown",
   "id": "ae141c25",
   "metadata": {},
   "source": [
    "what ever we put in double code or sigle code in python interpreter is taken by string"
   ]
  },
  {
   "cell_type": "code",
   "execution_count": 2,
   "id": "ffe6a021",
   "metadata": {},
   "outputs": [
    {
     "name": "stdout",
     "output_type": "stream",
     "text": [
      "Hellow AttainU\n"
     ]
    }
   ],
   "source": [
    "print('Hellow AttainU')"
   ]
  },
  {
   "cell_type": "code",
   "execution_count": 3,
   "id": "08ef8677",
   "metadata": {},
   "outputs": [
    {
     "name": "stdout",
     "output_type": "stream",
     "text": [
      "'Hellow' AttainU\n"
     ]
    }
   ],
   "source": [
    "print(\"'Hellow' AttainU\")"
   ]
  },
  {
   "cell_type": "code",
   "execution_count": 4,
   "id": "f6fb947c",
   "metadata": {},
   "outputs": [
    {
     "name": "stdout",
     "output_type": "stream",
     "text": [
      "AttainU bhabha batch\n",
      "      year - 2021\n"
     ]
    }
   ],
   "source": [
    "s= '''AttainU bhabha batch\n",
    "      year - 2021'''\n",
    "print(s)"
   ]
  },
  {
   "cell_type": "markdown",
   "id": "046d1855",
   "metadata": {},
   "source": [
    "when ever you keep 3 single or double quotation mask . what ever is inside it will taken as string"
   ]
  },
  {
   "cell_type": "code",
   "execution_count": 5,
   "id": "ee6b184b",
   "metadata": {},
   "outputs": [
    {
     "name": "stdout",
     "output_type": "stream",
     "text": [
      "AttainU bhabha batch\n",
      "year - 2021\n",
      "cr - Mainuddin\n",
      "class timing - 9am to 11am\n"
     ]
    }
   ],
   "source": [
    "s = \"\"\"AttainU bhabha batch\n",
    "year - 2021\n",
    "cr - Mainuddin\n",
    "class timing - 9am to 11am\"\"\"\n",
    "print(s)"
   ]
  },
  {
   "cell_type": "markdown",
   "id": "f1d5cfc0",
   "metadata": {},
   "source": [
    "Type of data"
   ]
  },
  {
   "cell_type": "code",
   "execution_count": 6,
   "id": "be2b8d93",
   "metadata": {},
   "outputs": [
    {
     "name": "stdout",
     "output_type": "stream",
     "text": [
      "<class 'int'>\n"
     ]
    }
   ],
   "source": [
    "a = 5\n",
    "print(type(a))"
   ]
  },
  {
   "cell_type": "code",
   "execution_count": 7,
   "id": "a6372eb8",
   "metadata": {},
   "outputs": [
    {
     "name": "stdout",
     "output_type": "stream",
     "text": [
      "<class 'str'>\n"
     ]
    }
   ],
   "source": [
    "a = \"ABCD\"\n",
    "print(type(a))"
   ]
  },
  {
   "cell_type": "code",
   "execution_count": 8,
   "id": "3849483d",
   "metadata": {},
   "outputs": [
    {
     "name": "stdout",
     "output_type": "stream",
     "text": [
      "<class 'float'>\n"
     ]
    }
   ],
   "source": [
    "a = 5.5\n",
    "print(type(a))"
   ]
  },
  {
   "cell_type": "markdown",
   "id": "363ff23b",
   "metadata": {},
   "source": [
    "Q3."
   ]
  },
  {
   "cell_type": "code",
   "execution_count": 9,
   "id": "93ff9227",
   "metadata": {},
   "outputs": [
    {
     "name": "stdout",
     "output_type": "stream",
     "text": [
      "\"hellow\"\n",
      "<class 'str'>\n"
     ]
    }
   ],
   "source": [
    "a = input()\n",
    "print(type(a))"
   ]
  },
  {
   "cell_type": "code",
   "execution_count": 10,
   "id": "7fac37f0",
   "metadata": {},
   "outputs": [
    {
     "name": "stdout",
     "output_type": "stream",
     "text": [
      "5\n",
      "<class 'str'>\n"
     ]
    }
   ],
   "source": [
    "a = input()\n",
    "print(type(a))"
   ]
  },
  {
   "cell_type": "markdown",
   "id": "c7f14f03",
   "metadata": {},
   "source": [
    "5 is not a string but what ever we given console that is stored in A. python as consider as string¶"
   ]
  },
  {
   "cell_type": "code",
   "execution_count": 11,
   "id": "b7ea25fb",
   "metadata": {},
   "outputs": [
    {
     "name": "stdout",
     "output_type": "stream",
     "text": [
      "3.3\n",
      "<class 'float'>\n"
     ]
    }
   ],
   "source": [
    "a =float(input())\n",
    "print(type(a))"
   ]
  },
  {
   "cell_type": "markdown",
   "id": "37b76979",
   "metadata": {},
   "source": [
    "conversion of data from one type to another is called type casting"
   ]
  },
  {
   "cell_type": "code",
   "execution_count": 12,
   "id": "b85bcef3",
   "metadata": {},
   "outputs": [
    {
     "name": "stdout",
     "output_type": "stream",
     "text": [
      "4\n",
      "<class 'int'>\n"
     ]
    }
   ],
   "source": [
    "a =int(input())\n",
    "print(type(a))"
   ]
  },
  {
   "cell_type": "code",
   "execution_count": 13,
   "id": "65e70042",
   "metadata": {},
   "outputs": [
    {
     "name": "stdout",
     "output_type": "stream",
     "text": [
      "3.3\n"
     ]
    },
    {
     "ename": "ValueError",
     "evalue": "invalid literal for int() with base 10: '3.3'",
     "output_type": "error",
     "traceback": [
      "\u001b[1;31m---------------------------------------------------------------------------\u001b[0m",
      "\u001b[1;31mValueError\u001b[0m                                Traceback (most recent call last)",
      "\u001b[1;32m<ipython-input-13-9a2bc9ff77b2>\u001b[0m in \u001b[0;36m<module>\u001b[1;34m\u001b[0m\n\u001b[1;32m----> 1\u001b[1;33m \u001b[0ma\u001b[0m \u001b[1;33m=\u001b[0m\u001b[0mint\u001b[0m\u001b[1;33m(\u001b[0m\u001b[0minput\u001b[0m\u001b[1;33m(\u001b[0m\u001b[1;33m)\u001b[0m\u001b[1;33m)\u001b[0m      \u001b[1;31m# we cant convert float number to int\u001b[0m\u001b[1;33m\u001b[0m\u001b[1;33m\u001b[0m\u001b[0m\n\u001b[0m\u001b[0;32m      2\u001b[0m \u001b[0mprint\u001b[0m\u001b[1;33m(\u001b[0m\u001b[0mtype\u001b[0m\u001b[1;33m(\u001b[0m\u001b[0ma\u001b[0m\u001b[1;33m)\u001b[0m\u001b[1;33m)\u001b[0m\u001b[1;33m\u001b[0m\u001b[1;33m\u001b[0m\u001b[0m\n",
      "\u001b[1;31mValueError\u001b[0m: invalid literal for int() with base 10: '3.3'"
     ]
    }
   ],
   "source": [
    "a =int(input())      # we cant convert float number to int\n",
    "print(type(a))"
   ]
  },
  {
   "cell_type": "code",
   "execution_count": 14,
   "id": "dcce11fe",
   "metadata": {},
   "outputs": [
    {
     "name": "stdout",
     "output_type": "stream",
     "text": [
      "3\n",
      "<class 'float'>\n"
     ]
    }
   ],
   "source": [
    "a =float(input())      # we can convert int number to float\n",
    "print(type(a))"
   ]
  },
  {
   "cell_type": "code",
   "execution_count": 15,
   "id": "41141a6f",
   "metadata": {},
   "outputs": [
    {
     "name": "stdout",
     "output_type": "stream",
     "text": [
      "3.3\n",
      "<class 'int'>\n"
     ]
    }
   ],
   "source": [
    "a = float(input())\n",
    "b = int(a)\n",
    "print(type(b))"
   ]
  },
  {
   "cell_type": "code",
   "execution_count": 16,
   "id": "ba4378ca",
   "metadata": {},
   "outputs": [
    {
     "name": "stdout",
     "output_type": "stream",
     "text": [
      "4\n",
      "4\n",
      "True\n"
     ]
    }
   ],
   "source": [
    "a = int(input())    # if i want to check a and b are equal\n",
    "b = int(input())\n",
    "print(a==b)"
   ]
  },
  {
   "cell_type": "code",
   "execution_count": 17,
   "id": "f72c79dc",
   "metadata": {},
   "outputs": [
    {
     "name": "stdout",
     "output_type": "stream",
     "text": [
      "3\n",
      "4\n",
      "False\n"
     ]
    }
   ],
   "source": [
    "a = int(input())    # if i want to check a and b are equal\n",
    "b = int(input())\n",
    "print(a==b)"
   ]
  },
  {
   "cell_type": "code",
   "execution_count": 18,
   "id": "554ef784",
   "metadata": {},
   "outputs": [
    {
     "name": "stdout",
     "output_type": "stream",
     "text": [
      "5\n",
      "4\n",
      "True\n"
     ]
    }
   ],
   "source": [
    "a = int(input())    # if i want to check a is greater than b \n",
    "b = int(input())\n",
    "print(a>b)"
   ]
  },
  {
   "cell_type": "code",
   "execution_count": 19,
   "id": "1c664bdd",
   "metadata": {},
   "outputs": [
    {
     "name": "stdout",
     "output_type": "stream",
     "text": [
      "3\n",
      "5\n",
      "True\n"
     ]
    }
   ],
   "source": [
    "a = int(input())    # if i want to check a is leser than b \n",
    "b = int(input())\n",
    "print(a<b)"
   ]
  },
  {
   "cell_type": "code",
   "execution_count": 20,
   "id": "2097b3b2",
   "metadata": {},
   "outputs": [
    {
     "name": "stdout",
     "output_type": "stream",
     "text": [
      "3\n",
      "3\n",
      "False\n"
     ]
    }
   ],
   "source": [
    "a = int(input())    # if i want to check a and b are not equal\n",
    "b = int(input())\n",
    "print(a!=b)"
   ]
  },
  {
   "cell_type": "code",
   "execution_count": 21,
   "id": "a21ab004",
   "metadata": {},
   "outputs": [
    {
     "name": "stdout",
     "output_type": "stream",
     "text": [
      "4\n",
      "4\n",
      "True\n"
     ]
    }
   ],
   "source": [
    "a = int(input())    # if i want to check a is greater than are equal to b \n",
    "b = int(input())\n",
    "print(a>=b)"
   ]
  },
  {
   "cell_type": "code",
   "execution_count": 22,
   "id": "850c8617",
   "metadata": {},
   "outputs": [
    {
     "name": "stdout",
     "output_type": "stream",
     "text": [
      "3\n",
      "4\n",
      "True\n"
     ]
    }
   ],
   "source": [
    "a = int(input())    # if i want to check a is leser than are equal to b \n",
    "b = int(input())\n",
    "print(a<=b)"
   ]
  },
  {
   "cell_type": "code",
   "execution_count": null,
   "id": "ac4ad99b",
   "metadata": {},
   "outputs": [],
   "source": []
  }
 ],
 "metadata": {
  "kernelspec": {
   "display_name": "Python 3",
   "language": "python",
   "name": "python3"
  },
  "language_info": {
   "codemirror_mode": {
    "name": "ipython",
    "version": 3
   },
   "file_extension": ".py",
   "mimetype": "text/x-python",
   "name": "python",
   "nbconvert_exporter": "python",
   "pygments_lexer": "ipython3",
   "version": "3.8.8"
  }
 },
 "nbformat": 4,
 "nbformat_minor": 5
}
