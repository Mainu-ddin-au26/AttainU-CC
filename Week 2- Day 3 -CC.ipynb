{
 "cells": [
  {
   "cell_type": "markdown",
   "id": "5ec1ad0a",
   "metadata": {},
   "source": [
    "   ## Week 2- Day 3 : Coding Challenge\n"
   ]
  },
  {
   "cell_type": "markdown",
   "id": "36613408",
   "metadata": {},
   "source": [
    "##### Q-1 )Write a program to check if a number is divisible by 4 or not?"
   ]
  },
  {
   "cell_type": "code",
   "execution_count": 2,
   "id": "f93becda",
   "metadata": {},
   "outputs": [
    {
     "name": "stdout",
     "output_type": "stream",
     "text": [
      "4\n",
      "not\n"
     ]
    }
   ],
   "source": [
    "a=int(input())\n",
    "\n",
    "if a/4==0:\n",
    "    print(\"true\")\n",
    "else:\n",
    "    print(\"not\")"
   ]
  },
  {
   "cell_type": "code",
   "execution_count": 3,
   "id": "535153ba",
   "metadata": {},
   "outputs": [
    {
     "name": "stdout",
     "output_type": "stream",
     "text": [
      "3\n",
      "not\n"
     ]
    }
   ],
   "source": [
    "a=int(input())\n",
    "\n",
    "if a/4==0:\n",
    "    print(\"true\")\n",
    "else:\n",
    "    print(\"not\")"
   ]
  },
  {
   "cell_type": "code",
   "execution_count": 4,
   "id": "34cb3e41",
   "metadata": {},
   "outputs": [
    {
     "name": "stdout",
     "output_type": "stream",
     "text": [
      "4\n",
      "true\n"
     ]
    }
   ],
   "source": [
    "a=int(input())\n",
    "\n",
    "if a/4==1:\n",
    "    print(\"true\")\n",
    "else:\n",
    "    print(\"not\")"
   ]
  },
  {
   "cell_type": "markdown",
   "id": "87cd4e50",
   "metadata": {},
   "source": [
    "#### Q-2 ) Write a program to check if a number is even or odd?\n"
   ]
  },
  {
   "cell_type": "code",
   "execution_count": 5,
   "id": "aff7138e",
   "metadata": {},
   "outputs": [
    {
     "name": "stdout",
     "output_type": "stream",
     "text": [
      "2\n",
      "even\n"
     ]
    }
   ],
   "source": [
    "a = int(input())\n",
    "\n",
    "if a%2==0:\n",
    "    print(\"even\")\n",
    "else:\n",
    "    print(\"odd\")"
   ]
  },
  {
   "cell_type": "code",
   "execution_count": 6,
   "id": "32c2f970",
   "metadata": {},
   "outputs": [
    {
     "name": "stdout",
     "output_type": "stream",
     "text": [
      "3\n",
      "odd\n"
     ]
    }
   ],
   "source": [
    "a = int(input())\n",
    "\n",
    "if a%2==0:\n",
    "    print(\"even\")\n",
    "else:\n",
    "    print(\"odd\")"
   ]
  },
  {
   "cell_type": "markdown",
   "id": "aa6aa020",
   "metadata": {},
   "source": [
    "#### Q-3)Write a program to print truth table of OR logical operator"
   ]
  },
  {
   "cell_type": "code",
   "execution_count": 7,
   "id": "d9873107",
   "metadata": {},
   "outputs": [
    {
     "name": "stdout",
     "output_type": "stream",
     "text": [
      "1\n",
      "1\n",
      "2\n",
      "2\n",
      "True\n"
     ]
    }
   ],
   "source": [
    "a = int(input())\n",
    "b = int(input())\n",
    "c = int(input())\n",
    "d = int(input())\n",
    "print(a==b or c==d)"
   ]
  },
  {
   "cell_type": "code",
   "execution_count": 8,
   "id": "39362bee",
   "metadata": {},
   "outputs": [
    {
     "name": "stdout",
     "output_type": "stream",
     "text": [
      "1\n",
      "1\n",
      "2\n",
      "3\n",
      "True\n"
     ]
    }
   ],
   "source": [
    "a = int(input())\n",
    "b = int(input())\n",
    "c = int(input())\n",
    "d = int(input())\n",
    "print(a==b or c==d)"
   ]
  },
  {
   "cell_type": "code",
   "execution_count": 9,
   "id": "aadfc2ba",
   "metadata": {},
   "outputs": [
    {
     "name": "stdout",
     "output_type": "stream",
     "text": [
      "1\n",
      "2\n",
      "3\n",
      "3\n",
      "True\n"
     ]
    }
   ],
   "source": [
    "a = int(input())\n",
    "b = int(input())\n",
    "c = int(input())\n",
    "d = int(input())\n",
    "print(a==b or c==d)"
   ]
  },
  {
   "cell_type": "code",
   "execution_count": 10,
   "id": "dc15f17b",
   "metadata": {},
   "outputs": [
    {
     "name": "stdout",
     "output_type": "stream",
     "text": [
      "1\n",
      "2\n",
      "3\n",
      "4\n",
      "False\n"
     ]
    }
   ],
   "source": [
    "a = int(input())\n",
    "b = int(input())\n",
    "c = int(input())\n",
    "d = int(input())\n",
    "print(a==b or c==d)"
   ]
  }
 ],
 "metadata": {
  "kernelspec": {
   "display_name": "Python 3",
   "language": "python",
   "name": "python3"
  },
  "language_info": {
   "codemirror_mode": {
    "name": "ipython",
    "version": 3
   },
   "file_extension": ".py",
   "mimetype": "text/x-python",
   "name": "python",
   "nbconvert_exporter": "python",
   "pygments_lexer": "ipython3",
   "version": "3.8.8"
  }
 },
 "nbformat": 4,
 "nbformat_minor": 5
}
